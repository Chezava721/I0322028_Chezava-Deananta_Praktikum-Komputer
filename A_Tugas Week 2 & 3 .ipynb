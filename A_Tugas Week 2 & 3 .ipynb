{
 "cells": [
  {
   "cell_type": "code",
   "execution_count": 1,
   "metadata": {},
   "outputs": [
    {
     "name": "stdout",
     "output_type": "stream",
     "text": [
      "Chezava Deananta\n",
      "I0322028\n",
      "A\n"
     ]
    }
   ],
   "source": [
    "print(input(\"Nama: \"))\n",
    "print(input(\"NIM: \"))\n",
    "print(input(\"Kelas: \"))"
   ]
  },
  {
   "attachments": {},
   "cell_type": "markdown",
   "metadata": {},
   "source": [
    "## 1."
   ]
  },
  {
   "attachments": {},
   "cell_type": "markdown",
   "metadata": {},
   "source": [
    "buatlah program sederhana untuk menghitung umur pengguna dengan ketentuan sebagai berikut :\n",
    "* Program meminta pengguna memasukan tanggal, bulan, dan tahun lahir\n",
    "* Program menghitung umur pengguna hingga tanggal 1 januari 2023\n",
    "* Program menampilkan umur dari pengguna"
   ]
  },
  {
   "cell_type": "code",
   "execution_count": 13,
   "metadata": {},
   "outputs": [
    {
     "name": "stdout",
     "output_type": "stream",
     "text": [
      "19\n"
     ]
    }
   ],
   "source": [
    "date = int(input(\"Masukkan tanggal\"))\n",
    "month = int(input(\"Masukkan bulan\"))\n",
    "year = int(input(\"Masukkan tahun\"))\n",
    "\n",
    "if date == 1:\n",
    "    if month == 1:\n",
    "        age = 2023 - tahun\n",
    "else:\n",
    "    age = 2023 - tahun - 1\n",
    "\n",
    "print(age)"
   ]
  },
  {
   "attachments": {},
   "cell_type": "markdown",
   "metadata": {},
   "source": [
    "## 2."
   ]
  },
  {
   "attachments": {},
   "cell_type": "markdown",
   "metadata": {},
   "source": [
    "Pada 2015, wabah flu burung menyerang Indonesia dan beberapa peternak ayam mengalami kerugian karena banyaknya ayam yang mati. Setiap bulan, jumlah ayamnya berkurang menjadi setengah. Setelah dua bulan, jumlah ayam yang tersisa adalah 200 ekor. Hitunglah jumlah ayam sebelumnya yang dimiliki peternak tersebut! (gunakan rumus deret geometri)\n",
    "\n",
    "> *note: SOAL DIATAS DIKERJAKAN SESUAI DENGAN RUMUS BAKU*"
   ]
  },
  {
   "cell_type": "code",
   "execution_count": 1,
   "metadata": {},
   "outputs": [
    {
     "name": "stdout",
     "output_type": "stream",
     "text": [
      "jumlah ayam sekarang adalah yaitu =  200\n",
      "jumlah ayam semula =  800.0\n"
     ]
    }
   ],
   "source": [
    "ayam_sisa = 200 #jumlah ayam saat ini\n",
    "waktu = 2 #2 bulan\n",
    "\n",
    "#rumus\n",
    "#Un = a*r**(n-1)\n",
    "#r = 1/2\n",
    "#n-1 = 2\n",
    "#a = Un/(r**(n-1))\n",
    "\n",
    "a = 200/((1/2)**2)\n",
    "print('jumlah ayam sekarang adalah yaitu = ',ayam_sisa)\n",
    "print('jumlah ayam semula = ',a)"
   ]
  },
  {
   "attachments": {},
   "cell_type": "markdown",
   "metadata": {},
   "source": [
    "## 3. "
   ]
  },
  {
   "attachments": {},
   "cell_type": "markdown",
   "metadata": {},
   "source": [
    "* **A** Hitunglah luas Prisma Segitiga dengan ketentuan sebagai berikut:\n",
    "    * Alas dan tutup prisma merupakan segitiga\n",
    "    * Terdapat 3 persegi panjang yang menyinggung alas dan tutup prisma\n",
    "    * Sisi persegi panjang yang menyinggung segitiga adalah sisi lebar\n",
    "```python\n",
    "    dictionary_figure = {\"Persegi\":{\"Sisi\":22},\n",
    "                        \"Persegi Panjang\":{\"Panjang\":10,\"Lebar\":5},\n",
    "                        \"Segitiga Sama Sisi\":{\"Sisi\":6,\"Tinggi\":3**(1/2) * 3},\n",
    "                        \"Lingkaran\":{\"Diameter\":7}}\n",
    "```\n",
    "* **B** Hitunglah luas Tabung dengan ketentuan sebagai berikut:\n",
    "    * Alas dan tutup tabung merupakan lingkaran\n",
    "    * Terdapat 1 persegi yang menyinggung alas dan tutup tabung\n",
    "    * Persegi yang ada mengelilingi lingkaran hingga sisi dari persegi saling bertemu\n",
    "\n",
    "> *note: Pada soal ini kalian hanya boleh menggunakan key-value pair dan index pada list. Tidak diperbolehkan menulis secara langsung dimensi dari figure*"
   ]
  },
  {
   "cell_type": "code",
   "execution_count": 12,
   "metadata": {},
   "outputs": [
    {
     "name": "stdout",
     "output_type": "stream",
     "text": [
      "Jadi luas permukaan prisma segitiga dgn lebar =  5 tinggi =  10 adalah 171.65063509461098\n",
      "Jadi luas permukaan tabung dengan diameter =  7 tinggi =  38.48451000647496 adalah  1525.0398075887288\n"
     ]
    }
   ],
   "source": [
    "dictionary_figure = {\"persegi\":{\"sisi\":22},\n",
    "                    \"persegi panjang\":{\"panjang\":10,\"lebar\":5},\n",
    "                    \"segitiga sama sisi\":{\"sisi\":6,\"tinggi\":3**(1/2) * 3},\n",
    "                    \"lingkaran\" :{\"Diameter\":7}}\n",
    "\n",
    "# Luas Prisma Segitiga\n",
    "\n",
    "# Rumus luas segitiga sama sisi = (0,25*sisi_segitiga**2)*(3**(0,5))\n",
    "Lebar = dictionary_figure[\"persegi panjang\"][\"lebar\"]\n",
    "Panjang = dictionary_figure[\"persegi panjang\"][\"panjang\"]\n",
    "Luas_PersegiPanjang =Panjang*Lebar\n",
    "Sisi_Segitiga = Lebar\n",
    "Luas_Segitiga =(0.25*Sisi_Segitiga**2)*(3**(0.5))\n",
    "Luas_Permukaan = 2 * Luas_Segitiga + 3*Luas_PersegiPanjang\n",
    "print (\"Jadi luas permukaan prisma segitiga dgn lebar = \",Lebar, \"tinggi = \", Panjang, \"adalah\", Luas_Permukaan)\n",
    "       \n",
    "# Luas Permukaan Tabung\n",
    "\n",
    "from math import pi\n",
    "Diameter = dictionary_figure[\"lingkaran\"][\"Diameter\"]\n",
    "Luas_Lingkaran = pi*Diameter\n",
    "Keliling_Lingkaran = pi*Diameter**2*0.25\n",
    "Sisi_Persegi = Keliling_Lingkaran\n",
    "Luas_Persegi = Sisi_Persegi**2\n",
    "Luas_Tabung = 2*Luas_Lingkaran + Luas_Persegi\n",
    "print(\"Jadi luas permukaan tabung dengan diameter = \", Diameter, \"tinggi = \",Sisi_Persegi, \"adalah \", Luas_Tabung)\n",
    "\n",
    "\n"
   ]
  }
 ],
 "metadata": {
  "kernelspec": {
   "display_name": "Python 3",
   "language": "python",
   "name": "python3"
  },
  "language_info": {
   "codemirror_mode": {
    "name": "ipython",
    "version": 3
   },
   "file_extension": ".py",
   "mimetype": "text/x-python",
   "name": "python",
   "nbconvert_exporter": "python",
   "pygments_lexer": "ipython3",
   "version": "3.10.7"
  },
  "orig_nbformat": 4,
  "vscode": {
   "interpreter": {
    "hash": "107d7b120a5b68773a87d4067e673630b35702e55ebab3138143d08b1c4d7cbc"
   }
  }
 },
 "nbformat": 4,
 "nbformat_minor": 2
}
