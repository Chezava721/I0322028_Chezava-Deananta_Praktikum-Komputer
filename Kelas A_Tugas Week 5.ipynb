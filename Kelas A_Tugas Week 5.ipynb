{
 "cells": [
  {
   "attachments": {},
   "cell_type": "markdown",
   "metadata": {},
   "source": [
    "1. Buatlah program untuk menampilkan total penjumlahan bilangan ganjil dan total penjumlahan bilangan genap dengan input dari user berupa range (batas atas dan batas bawah)!"
   ]
  },
  {
   "cell_type": "code",
   "execution_count": 6,
   "metadata": {},
   "outputs": [
    {
     "name": "stdout",
     "output_type": "stream",
     "text": [
      "jumlah ganjil =  0\n",
      "jumlah genap =  0\n"
     ]
    }
   ],
   "source": [
    "# Kerjakan nomor 1 di sini\n",
    "a = int(input('Masukkan batas atas '))\n",
    "b = int(input('Masukkan batas bawah' ))\n",
    "\n",
    "jumlah_ganjil = 0\n",
    "jumlah_genap = 0\n",
    "\n",
    "if a>b :\n",
    "    a,b=b,a\n",
    "\n",
    "for i in range (a,b+1) :\n",
    "    if i % 2 == 0 :\n",
    "        jumlah_genap += i\n",
    "    else :\n",
    "        jumlah_ganjil += i\n",
    "print('jumlah ganjil = ', jumlah_ganjil)\n",
    "print('jumlah genap = ', jumlah_genap)"
   ]
  },
  {
   "attachments": {},
   "cell_type": "markdown",
   "metadata": {},
   "source": [
    "2. Buatlah sebuah list yang berisi daftar makanan khas daerah (minimal 10 makanan termasuk makanan khas Solo). Kemudian buat program pencarian menggunakan pengulangan. Apabila nama makanan yang user inputkan sudah sesuai dengan isi list maka program akan berhenti dan menampilkan output \"(makanan yang diinput user) adalah makanan khas daerah\"."
   ]
  },
  {
   "cell_type": "code",
   "execution_count": 8,
   "metadata": {},
   "outputs": [
    {
     "name": "stdout",
     "output_type": "stream",
     "text": [
      "timlo solo adalah makanan khas\n"
     ]
    }
   ],
   "source": [
    "# Kerjakan nomor 2 di sini\n",
    "\n",
    "x = ['timlo solo', 'serabi solo', 'bakpia', 'ronde', 'timus', 'dodol', 'gudeg', 'sate kere', 'nasi liwet solo', 'jadah tempe', 'DLL']\n",
    "makanan = input('Masukkan nama makanan')\n",
    "\n",
    "for i in x :\n",
    "    if i == makanan :\n",
    "        break\n",
    "    print(i)\n",
    "\n",
    "if i == makanan :\n",
    "    print(makanan, 'adalah makanan khas')\n",
    "else :\n",
    "    print(makanan, 'bukan makanan khas')\n"
   ]
  },
  {
   "attachments": {},
   "cell_type": "markdown",
   "metadata": {},
   "source": [
    "3. Buatlah program untuk menghitung rata-rata 7 bilangan dimana bilangan-bilangan tersebut didapat melalui input user!"
   ]
  },
  {
   "cell_type": "code",
   "execution_count": 14,
   "metadata": {},
   "outputs": [
    {
     "name": "stdout",
     "output_type": "stream",
     "text": [
      "Bilangan Bilangan :\n",
      "[1.0, 2.0, 3.0, 4.0, 5.0, 6.0, 7.0]\n",
      "maka rata-rata biangan tersebut adalah\n",
      "4.0\n"
     ]
    }
   ],
   "source": [
    "# Kerjakan nomor 3 di sini\n",
    "\n",
    "print('Bilangan Bilangan :')\n",
    "\n",
    "list_bilangan = []\n",
    "for i in range (7):\n",
    "    bilangan = float(input('Masukkan angka'))\n",
    "    list_bilangan.append(bilangan)\n",
    "    ratarata = sum(list_bilangan)/len(list_bilangan)\n",
    "\n",
    "print(list_bilangan)\n",
    "print('maka rata-rata biangan tersebut adalah')\n",
    "print(ratarata)"
   ]
  }
 ],
 "metadata": {
  "kernelspec": {
   "display_name": "Python 3",
   "language": "python",
   "name": "python3"
  },
  "language_info": {
   "codemirror_mode": {
    "name": "ipython",
    "version": 3
   },
   "file_extension": ".py",
   "mimetype": "text/x-python",
   "name": "python",
   "nbconvert_exporter": "python",
   "pygments_lexer": "ipython3",
   "version": "3.10.7"
  },
  "orig_nbformat": 4
 },
 "nbformat": 4,
 "nbformat_minor": 2
}
